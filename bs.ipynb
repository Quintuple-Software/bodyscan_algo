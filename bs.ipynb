{
 "cells": [
  {
   "cell_type": "markdown",
   "metadata": {},
   "source": [
    "# Bodyscan engine\n",
    "This notebook provides the training platform for the body shape parameter estimation from single Kinect depth image.\n",
    "\n",
    "Updated by Jack Z., Quintuple Software, 2020/03/16."
   ]
  },
  {
   "cell_type": "markdown",
   "metadata": {},
   "source": [
    "Installs packages needed from the local mirror server for the first run."
   ]
  },
  {
   "cell_type": "code",
   "execution_count": 1,
   "metadata": {
    "jupyter": {
     "source_hidden": true
    }
   },
   "outputs": [],
   "source": [
    "mirror_path = \"-i https://pypi.tuna.tsinghua.edu.cn/simple/ --trusted-host pypi.tuna.tsinghua.edu.cn --default-timeout=1000\"\n",
    "#!pip install tensorflow-gpu {mirror_path}\n",
    "#!pip install matplotlib {mirror_path}\n",
    "#!pip install pandas {mirror_path}\n",
    "#!pip install sklearn {mirror_path}\n",
    "#!pip install Pillow {mirror_path}\n",
    "#!pip install tensorboard {mirror_path}\n",
    "#!pip install packaging"
   ]
  },
  {
   "cell_type": "markdown",
   "metadata": {},
   "source": [
    "Imports libraries and check the tensorflow version.\n",
    "\n",
    "Note that you need tf 2.0 or above to train the dataset, but you also need tf 1.14 for converting the model to pb file to use it on C++.\n",
    "\n",
    "> Make certain modification for the conversion purpose, such as loading the keras model instead of building it, and running the cell that converting SaveModel into pb format."
   ]
  },
  {
   "cell_type": "code",
   "execution_count": 2,
   "metadata": {
    "jupyter": {
     "source_hidden": true
    }
   },
   "outputs": [
    {
     "name": "stdout",
     "output_type": "stream",
     "text": [
      "2.1.0\n"
     ]
    }
   ],
   "source": [
    "from __future__ import absolute_import, division, print_function, unicode_literals\n",
    "\n",
    "# TensorFlow and tf.keras\n",
    "import tensorflow as tf\n",
    "from tensorflow import keras\n",
    "\n",
    "# Helper libraries\n",
    "import numpy as np\n",
    "import matplotlib.pyplot as plt\n",
    "\n",
    "from packaging import version\n",
    "\n",
    "print(tf.__version__)\n",
    "\n",
    "is_tf2 = version.parse(tf.__version__).release[0] >= 2\n",
    "assert is_tf2, \"This notebook requires TensorFlow 2.0 or above.\""
   ]
  },
  {
   "cell_type": "code",
   "execution_count": 3,
   "metadata": {
    "jupyter": {
     "source_hidden": true
    }
   },
   "outputs": [],
   "source": [
    "import os\n",
    "import sys\n",
    "module_path = os.path.abspath(os.path.join('..'))\n",
    "if module_path not in sys.path:\n",
    "    sys.path.append(module_path)"
   ]
  },
  {
   "cell_type": "markdown",
   "metadata": {},
   "source": [
    "## Loads and pre-processing dataset"
   ]
  },
  {
   "cell_type": "markdown",
   "metadata": {},
   "source": [
    "Loads image file names into `file_metas`."
   ]
  },
  {
   "cell_type": "code",
   "execution_count": 4,
   "metadata": {
    "jupyter": {
     "source_hidden": true
    }
   },
   "outputs": [
    {
     "name": "stdout",
     "output_type": "stream",
     "text": [
      "Number of images:  15170\n"
     ]
    }
   ],
   "source": [
    "import os, fnmatch\n",
    "\n",
    "def find(pattern, path):\n",
    "    result = []\n",
    "    for root, dirs, files in os.walk(path):\n",
    "        for name in files:\n",
    "            if fnmatch.fnmatch(name, pattern):\n",
    "                result.append(os.path.join(root, name))\n",
    "    return result\n",
    "\n",
    "\n",
    "files = find('*_front.png', './dataset/man_depth/')\n",
    "\n",
    "print('Number of images: ', len(files))"
   ]
  },
  {
   "cell_type": "code",
   "execution_count": 5,
   "metadata": {},
   "outputs": [],
   "source": [
    "def extract_file_meta(file):\n",
    "    idx = file.rfind('/')\n",
    "    idx2 = file.find('.obj')\n",
    "    sub = file[idx+1:idx2+4]\n",
    "    return file, sub\n",
    "\n",
    "file_metas = [extract_file_meta(f) for f in files]  # list of (full path, model name)\n",
    "#display(file_metas)"
   ]
  },
  {
   "cell_type": "markdown",
   "metadata": {},
   "source": [
    "Loads 3d model shape parameter information into `value_map`."
   ]
  },
  {
   "cell_type": "code",
   "execution_count": 6,
   "metadata": {
    "jupyter": {
     "source_hidden": true
    }
   },
   "outputs": [
    {
     "name": "stdout",
     "output_type": "stream",
     "text": [
      "Number of humans:  1517\n"
     ]
    }
   ],
   "source": [
    "import pandas as pd\n",
    "# load file\n",
    "value_df = pd.read_csv('./dataset/man_data.csv')\n",
    "value_map = {}\n",
    "for row in value_df.to_numpy():\n",
    "    name = row[0]\n",
    "    values = row[1:]\n",
    "    value_map[name] = values\n",
    "\n",
    "print('Number of humans: ', len(value_map))  # dic(model name) -> 48 parameters\n",
    "param_names = list(value_df.columns.values)"
   ]
  },
  {
   "cell_type": "markdown",
   "metadata": {},
   "source": [
    "Couple the image file name and it's values (`dataset`, `values`)"
   ]
  },
  {
   "cell_type": "code",
   "execution_count": 7,
   "metadata": {
    "jupyter": {
     "source_hidden": true
    }
   },
   "outputs": [
    {
     "data": {
      "text/plain": [
       "'size of dataset'"
      ]
     },
     "metadata": {},
     "output_type": "display_data"
    },
    {
     "data": {
      "text/plain": [
       "15170"
      ]
     },
     "metadata": {},
     "output_type": "display_data"
    },
    {
     "data": {
      "text/plain": [
       "'dimension of values'"
      ]
     },
     "metadata": {},
     "output_type": "display_data"
    },
    {
     "data": {
      "text/plain": [
       "(15170, 24)"
      ]
     },
     "metadata": {},
     "output_type": "display_data"
    }
   ],
   "source": [
    "dataset = []\n",
    "values = []\n",
    "for m in file_metas:\n",
    "    dataset.append(m[0])\n",
    "    obj = m[1]\n",
    "    val = value_map[obj]\n",
    "    values.append(np.array(val))\n",
    "values = np.array(values)\n",
    "display('size of dataset', len(dataset))\n",
    "display('dimension of values', values.shape)"
   ]
  },
  {
   "cell_type": "markdown",
   "metadata": {},
   "source": [
    "Loads input images into `input_ds`.\n",
    "For the consideration of memory limit, we use random `total_img_count`(15k) images.\n",
    "\n",
    "Input images will be normalized into the range of 1.2m ~ 2.9m, with the depth resolution of 1mm."
   ]
  },
  {
   "cell_type": "code",
   "execution_count": 8,
   "metadata": {
    "jupyter": {
     "source_hidden": true
    }
   },
   "outputs": [],
   "source": [
    "import numpy as np\n",
    "from sklearn.utils import shuffle\n",
    "\n",
    "total_img_count = 10000\n",
    "dataset_sf, values_sf = shuffle(dataset, values)\n",
    "\n",
    "dataset_sf = dataset_sf[:total_img_count]\n",
    "values_sf = values_sf[:total_img_count]\n",
    "\n",
    "total_img_count = len(dataset_sf)"
   ]
  },
  {
   "cell_type": "markdown",
   "metadata": {},
   "source": [
    "Set `is_load` to false for the first run, and to true for the continuous use for the performance.\n",
    "\n",
    "It needs approx 8GB of RAM for 15k dataset."
   ]
  },
  {
   "cell_type": "code",
   "execution_count": 9,
   "metadata": {
    "jupyter": {
     "source_hidden": true
    }
   },
   "outputs": [],
   "source": [
    "from PIL import Image\n",
    "    \n",
    "min_depth = 1200  # 1900\n",
    "max_depth = 2900  # 3700\n",
    "\n",
    "def load_img(file_path, n_channels=1, verbose=False):\n",
    "    global img_count, total_img_count\n",
    "    img_count = img_count + 1\n",
    "    if img_count % 100 == 0:\n",
    "        print ('.', end='')\n",
    "    if img_count % 1000 == 0:\n",
    "        print('{}/{}'.format(img_count, total_img_count))    \n",
    "\n",
    "    im = Image.open(file_path)  # read image using matplotlib\n",
    "    im.load()\n",
    "    if verbose:\n",
    "        display(np.histogram(np.array(im), bins=100))\n",
    "    im = (np.array(im) * 5000 // 65535).astype(dtype=np.int16)\n",
    "    #im[np.where(im==0)] = 5000\n",
    "    #im = resize(im, (224,224), anti_aliasing=True)  # resize image using skimage\n",
    "    # clip from min_depth~max_depth mm, which is the range where the body scan collapse.\n",
    "    im = np.clip(im, min_depth, max_depth)\n",
    "    im = (im - min_depth) * 1.0 / (max_depth - min_depth)\n",
    "    if n_channels == 1:\n",
    "        return im.astype(dtype=np.float16).reshape((512,512,1))\n",
    "    else:\n",
    "        return im.astype(dtype=np.float16).reshape((512,512,4))[:,:,0].reshape((512,512,1))"
   ]
  },
  {
   "cell_type": "code",
   "execution_count": 10,
   "metadata": {},
   "outputs": [
    {
     "name": "stdout",
     "output_type": "stream",
     "text": [
      "..........1000/10000\n",
      "..........2000/10000\n",
      "..........3000/10000\n",
      "..........4000/10000\n",
      "..........5000/10000\n",
      "..........6000/10000\n",
      "..........7000/10000\n",
      "..........8000/10000\n",
      "..........9000/10000\n",
      "..........10000/10000\n",
      "Saved the pack.\n"
     ]
    },
    {
     "data": {
      "text/plain": [
       "'dimension of input_ds'"
      ]
     },
     "metadata": {},
     "output_type": "display_data"
    },
    {
     "data": {
      "text/plain": [
       "(10000, 512, 512, 1)"
      ]
     },
     "metadata": {},
     "output_type": "display_data"
    }
   ],
   "source": [
    "is_load = False\n",
    "if is_load:\n",
    "    input_ds = np.load('depth_array_.npy')\n",
    "else:\n",
    "    img_count = 0\n",
    "    input_ds = np.array([load_img(file) for file in dataset_sf])\n",
    "    np.save('depth_array_.npy', input_ds)\n",
    "    print('Saved the pack.')\n",
    "display('dimension of input_ds', input_ds.shape)"
   ]
  },
  {
   "cell_type": "markdown",
   "metadata": {},
   "source": [
    "Check if normalization is working alright."
   ]
  },
  {
   "cell_type": "code",
   "execution_count": 11,
   "metadata": {
    "collapsed": true,
    "jupyter": {
     "outputs_hidden": true,
     "source_hidden": true
    }
   },
   "outputs": [
    {
     "data": {
      "text/plain": [
       "(array([24631803,        0,        0,        0,        0,        0,\n",
       "               0,        0,        0,        0,        0,        0,\n",
       "               0,        0,        0,       10,      296,      537,\n",
       "             828,     1201,     3263,     2792,     4297,     6412,\n",
       "           10393,    10972,    10603,     8441,     6981,     5964,\n",
       "            7918,    11632,    15475,    19879,    20664,    19880,\n",
       "           18093,    21775,    20904,    24108,    22730,    23308,\n",
       "           25865,    29907,    34241,    32055,    34830,    34223,\n",
       "           35723,    31969,    34461,    31760,    32675,    32927,\n",
       "           29042,    30875,    31270,    26693,    25000,    26665,\n",
       "           27339,    31516,    27333,    26863,    27368,    26980,\n",
       "           29284,    33389,    31109,    28437,    33501,    32300,\n",
       "           33285,    27710,    25851,    23337,    23022,    24320,\n",
       "           22471,    21526,    20161,    22640,    21276,    18927,\n",
       "           17671,    15301,    12187,    10074,     9242,     6272,\n",
       "            4663,     3241,     2213,     1363,      606,      229,\n",
       "              43,        5,        2,        3], dtype=int64),\n",
       " array([0.     , 0.00914, 0.01828, 0.02742, 0.03656, 0.04572, 0.05484,\n",
       "        0.06396, 0.0731 , 0.0823 , 0.09143, 0.1005 , 0.1097 , 0.11884,\n",
       "        0.1279 , 0.1371 , 0.1462 , 0.1554 , 0.1646 , 0.1737 , 0.1829 ,\n",
       "        0.1919 , 0.201  , 0.2102 , 0.2194 , 0.2285 , 0.2377 , 0.2468 ,\n",
       "        0.2559 , 0.2651 , 0.2742 , 0.2834 , 0.2925 , 0.3018 , 0.3108 ,\n",
       "        0.3198 , 0.329  , 0.3381 , 0.3474 , 0.3564 , 0.3657 , 0.3748 ,\n",
       "        0.3838 , 0.393  , 0.402  , 0.4114 , 0.4204 , 0.4297 , 0.4387 ,\n",
       "        0.448  , 0.457  , 0.466  , 0.4753 , 0.4844 , 0.4937 , 0.503  ,\n",
       "        0.5117 , 0.521  , 0.5303 , 0.539  , 0.5483 , 0.5576 , 0.567  ,\n",
       "        0.5757 , 0.585  , 0.594  , 0.6035 , 0.6123 , 0.6216 , 0.631  ,\n",
       "        0.6396 , 0.649  , 0.658  , 0.6675 , 0.6763 , 0.6855 , 0.695  ,\n",
       "        0.7036 , 0.713  , 0.722  , 0.7314 , 0.74   , 0.7495 , 0.759  ,\n",
       "        0.7676 , 0.777  , 0.786  , 0.7954 , 0.804  , 0.8135 , 0.8228 ,\n",
       "        0.832  , 0.841  , 0.85   , 0.8594 , 0.868  , 0.8774 , 0.8867 ,\n",
       "        0.896  , 0.905  , 0.914  ], dtype=float16))"
      ]
     },
     "metadata": {},
     "output_type": "display_data"
    }
   ],
   "source": [
    "#display(input_ds[0].reshape(-1, 4).tolist())\n",
    "#np.save('depth_array.npy', input_ds)\n",
    "display(np.histogram(input_ds[:100], bins=100))\n",
    "#np.max(input_ds[0])"
   ]
  },
  {
   "cell_type": "markdown",
   "metadata": {},
   "source": [
    "Okay, now we split the whole dataset into training, validation and test."
   ]
  },
  {
   "cell_type": "code",
   "execution_count": 11,
   "metadata": {
    "jupyter": {
     "source_hidden": true
    }
   },
   "outputs": [
    {
     "data": {
      "text/plain": [
       "'dimension of train_X'"
      ]
     },
     "metadata": {},
     "output_type": "display_data"
    },
    {
     "data": {
      "text/plain": [
       "(6400, 512, 512, 1)"
      ]
     },
     "metadata": {},
     "output_type": "display_data"
    },
    {
     "data": {
      "text/plain": [
       "'dimension of test_y'"
      ]
     },
     "metadata": {},
     "output_type": "display_data"
    },
    {
     "data": {
      "text/plain": [
       "(6400, 24)"
      ]
     },
     "metadata": {},
     "output_type": "display_data"
    }
   ],
   "source": [
    "sf_X, sf_y = input_ds, values_sf  # shuffle(input_ds, values_sf) #\n",
    "\n",
    "def split(X, y, ratio=0.8):\n",
    "    mid = int(ratio*X.shape[0])\n",
    "    train_X = X[:mid]\n",
    "    train_y = y[:mid]\n",
    "    test_X = X[mid:]\n",
    "    test_y = y[mid:]\n",
    "    return (train_X, train_y), (test_X, test_y)\n",
    "\n",
    "(known_X, known_y), (test_X, test_y) = split(sf_X, sf_y, 0.8)\n",
    "(train_X, train_y), (validation_X, validation_y) = split(known_X, known_y, 0.8)\n",
    "\n",
    "display('dimension of train_X', train_X.shape)\n",
    "display('dimension of test_y', train_y.shape)\n",
    "\n",
    "assert train_X.shape[0] == train_y.shape[0], \"the number of samples should match for the input and output\""
   ]
  },
  {
   "cell_type": "markdown",
   "metadata": {},
   "source": [
    "### Normalize the data"
   ]
  },
  {
   "cell_type": "code",
   "execution_count": 12,
   "metadata": {
    "jupyter": {
     "source_hidden": true
    }
   },
   "outputs": [],
   "source": [
    "from sklearn.preprocessing import MinMaxScaler\n",
    "\n",
    "normalize_on = False\n",
    "if normalize_on:\n",
    "    scaler = MinMaxScaler(feature_range=(0, 1))\n",
    "    scaler = scaler.fit(known_y)\n",
    "\n",
    "    normalized_train_y = scaler.transform(train_y)\n",
    "    normalized_validation_y = scaler.transform(validation_y)\n",
    "    normalized_test_y = scaler.transform(test_y)\n",
    "else:\n",
    "    normalized_train_y = train_y.astype(dtype=np.float64)\n",
    "    normalized_validation_y = validation_y.astype(dtype=np.float64)\n",
    "    normalized_test_y = test_y.astype(dtype=np.float64)\n",
    "    \n",
    "assert normalized_train_y.dtype == np.float64, 'should be in the format of float64 to provide into tf tensor'"
   ]
  },
  {
   "cell_type": "markdown",
   "metadata": {},
   "source": [
    "## Build the model and train the dataset"
   ]
  },
  {
   "cell_type": "markdown",
   "metadata": {},
   "source": [
    "### Prepares tensorboard\n",
    "\n",
    "Only use this section when you need to monitor the training progress with tensorflow, which will be only needed for the fine tuning hyper-parameters."
   ]
  },
  {
   "cell_type": "markdown",
   "metadata": {},
   "source": [
    "Loads tensorboard module."
   ]
  },
  {
   "cell_type": "code",
   "execution_count": 13,
   "metadata": {},
   "outputs": [],
   "source": [
    "%reload_ext tensorboard"
   ]
  },
  {
   "cell_type": "markdown",
   "metadata": {},
   "source": [
    "Removes tensorboard cache.\n",
    "  > Change the path of local user directory."
   ]
  },
  {
   "cell_type": "code",
   "execution_count": 14,
   "metadata": {},
   "outputs": [],
   "source": [
    "# remove all files here: C:\\Users\\jakezira\\AppData\\Local\\Temp\\.tensorboard-info\n",
    "!rmdir /s /q \"C:\\\\Users\\\\jakezira\\\\AppData\\\\Local\\\\Temp\\\\.tensorboard-info\""
   ]
  },
  {
   "cell_type": "code",
   "execution_count": 27,
   "metadata": {
    "collapsed": true,
    "jupyter": {
     "outputs_hidden": true,
     "source_hidden": true
    }
   },
   "outputs": [
    {
     "name": "stderr",
     "output_type": "stream",
     "text": [
      "The directory is not empty.\n"
     ]
    }
   ],
   "source": [
    "!rmdir /s /q \"logs\\\\scalars\""
   ]
  },
  {
   "cell_type": "markdown",
   "metadata": {},
   "source": [
    "Starts tensorboard service. It timeouts when you try this on windows, but it's okay. Following cells shows the tensorboard anyway."
   ]
  },
  {
   "cell_type": "code",
   "execution_count": 15,
   "metadata": {
    "scrolled": true
   },
   "outputs": [
    {
     "data": {
      "text/plain": [
       "ERROR: Timed out waiting for TensorBoard to start. It may still be running as pid 18948."
      ]
     },
     "metadata": {},
     "output_type": "display_data"
    }
   ],
   "source": [
    "%tensorboard --logdir \"logs/scalars\""
   ]
  },
  {
   "cell_type": "markdown",
   "metadata": {},
   "source": [
    "Use following command on windows when you have conflicted app on windows."
   ]
  },
  {
   "cell_type": "code",
   "execution_count": 22,
   "metadata": {
    "jupyter": {
     "source_hidden": true
    }
   },
   "outputs": [
    {
     "name": "stderr",
     "output_type": "stream",
     "text": [
      "ERROR: The process \"21888\" not found.\n"
     ]
    }
   ],
   "source": [
    " !TaskKill /PID 21888 /F"
   ]
  },
  {
   "cell_type": "markdown",
   "metadata": {},
   "source": [
    "When it stuck on timeout for the tensorboard starting, use following to open it here.\n",
    "Or open here to see it on another browser: http://localhost:6006/#scalars"
   ]
  },
  {
   "cell_type": "code",
   "execution_count": 23,
   "metadata": {
    "jupyter": {
     "source_hidden": true
    }
   },
   "outputs": [
    {
     "name": "stdout",
     "output_type": "stream",
     "text": [
      "Known TensorBoard instances:\n",
      "  - port 6006: logdir logs/scalars (started 1:17:17 ago; pid 32316)\n"
     ]
    }
   ],
   "source": [
    "from tensorboard import notebook\n",
    "\n",
    "notebook.list() # View open TensorBoard instances\n",
    "\n",
    "notebook.display(port=6006, height=0)"
   ]
  },
  {
   "cell_type": "markdown",
   "metadata": {},
   "source": [
    "### Build the model"
   ]
  },
  {
   "cell_type": "markdown",
   "metadata": {},
   "source": [
    "#### Prepares the tensorboard functionalities"
   ]
  },
  {
   "cell_type": "code",
   "execution_count": 38,
   "metadata": {
    "jupyter": {
     "source_hidden": true
    }
   },
   "outputs": [],
   "source": [
    "import io\n",
    "def plot_to_image(figure):\n",
    "    \"\"\"Converts the matplotlib plot specified by 'figure' to a PNG image and\n",
    "    returns it. The supplied figure is closed and inaccessible after this call.\"\"\"\n",
    "    # Save the plot to a PNG in memory.\n",
    "    buf = io.BytesIO()\n",
    "    plt.savefig(buf, format='png')\n",
    "    # Closing the figure prevents it from being displayed directly inside\n",
    "    # the notebook.\n",
    "    plt.close(figure)\n",
    "    buf.seek(0)\n",
    "    # Convert PNG buffer to TF image\n",
    "    image = tf.image.decode_png(buf.getvalue(), channels=4)\n",
    "    # Add the batch dimension\n",
    "    image = tf.expand_dims(image, 0)\n",
    "    return image"
   ]
  },
  {
   "cell_type": "markdown",
   "metadata": {},
   "source": [
    "Clears the tensorflow workspace to free the GPU memory."
   ]
  },
  {
   "cell_type": "code",
   "execution_count": 82,
   "metadata": {
    "jupyter": {
     "source_hidden": true
    }
   },
   "outputs": [
    {
     "name": "stdout",
     "output_type": "stream",
     "text": [
      "2 Physical GPUs, 2 Logical GPU\n"
     ]
    }
   ],
   "source": [
    "from datetime import datetime\n",
    "from tensorflow.keras import backend as K\n",
    "\n",
    "K.clear_session()\n",
    "\n",
    "# Select GPU for the training\n",
    "gpus = tf.config.experimental.list_physical_devices('GPU')\n",
    "if gpus:\n",
    "    # Restrict TensorFlow to only use the first GPU\n",
    "    try:\n",
    "        tf.config.experimental.set_visible_devices(gpus[:], 'GPU')\n",
    "        for gpu in gpus:\n",
    "            tf.config.experimental.set_memory_growth(gpu, True)\n",
    "        logical_gpus = tf.config.experimental.list_logical_devices('GPU')\n",
    "        print(len(gpus), \"Physical GPUs,\", len(logical_gpus), \"Logical GPU\")\n",
    "    except RuntimeError as e:\n",
    "        # Visible devices must be set before GPUs have been initialized\n",
    "        print(e)"
   ]
  },
  {
   "cell_type": "markdown",
   "metadata": {},
   "source": [
    "Modifies `param` to define the *learning rate* curve."
   ]
  },
  {
   "cell_type": "code",
   "execution_count": 83,
   "metadata": {
    "jupyter": {
     "source_hidden": true
    }
   },
   "outputs": [],
   "source": [
    "param_exp = {\n",
    "    'lr': 1.25*1e-2,\n",
    "    'ds': 30,  # 25-> 30\n",
    "    'dr': 1.4,  # 1.6 -> 1.4\n",
    "    'mode': 'exp'\n",
    "}\n",
    "\n",
    "param_inv = {\n",
    "    'lr': 1e-2,  # 1e-3 -> 1e-2\n",
    "    'ds': 30,  # 20->30->25\n",
    "    'dr': 1,  # 10->3->1\n",
    "    'mode': 'inv'\n",
    "}\n",
    "\n",
    "param = param_exp\n",
    "\n",
    "lr = param['lr']\n",
    "ds = param['ds']\n",
    "dr = param['dr']\n",
    "mode = param['mode']\n",
    "\n",
    "dt_str = datetime.now().strftime(\"%Y%m%d_%H%M%S\")\n",
    "logdir = \"logs\\\\scalars\\\\\" + dt_str + \"_\" + mode\n",
    "file_writer = tf.summary.create_file_writer(logdir + \"\\\\metrics\")\n",
    "file_writer.set_as_default()\n",
    "\n",
    "\n",
    "def lr_schedule_exp(epoch):\n",
    "    import math\n",
    "    \"\"\"\n",
    "    Returns a custom learning rate that decreases as epochs progress.\n",
    "    \"\"\"\n",
    "    learning_rate = 2*lr / (1 + math.pow(dr, (epoch // ds)))\n",
    "    \n",
    "    tf.summary.scalar('learning rate', data=learning_rate, step=epoch)\n",
    "    return learning_rate\n",
    "\n",
    "def lr_schedule_invtime(epoch):\n",
    "    import math\n",
    "    \"\"\"\n",
    "    Returns a custom learning rate that decreases as epochs progress.\n",
    "    Same as InverseTimeDecay.\n",
    "    \"\"\"\n",
    "    learning_rate = lr / (1 + dr * (epoch // ds))\n",
    "\n",
    "    tf.summary.scalar('learning rate', data=learning_rate, step=epoch)\n",
    "    return learning_rate\n",
    "\n",
    "if mode == 'inv':\n",
    "    lr_schedule = lr_schedule_invtime\n",
    "else:\n",
    "    lr_schedule = lr_schedule_exp\n",
    "lr_callback = keras.callbacks.LearningRateScheduler(lr_schedule)\n",
    "\n",
    "tensorboard_callback = keras.callbacks.TensorBoard(log_dir=logdir,\n",
    "                                                  histogram_freq=1,\n",
    "                                                  profile_batch = 100000000)"
   ]
  },
  {
   "cell_type": "markdown",
   "metadata": {},
   "source": [
    "Defines the tensorboard monitoring callback, including feature accuracy and outliers.\n",
    "\n",
    "Comment out these callbacks when you don't use tensorboard."
   ]
  },
  {
   "cell_type": "code",
   "execution_count": 84,
   "metadata": {},
   "outputs": [],
   "source": [
    "def image_error(predictions):\n",
    "    \"\"\"Return a 5x5 grid of the MNIST images as a matplotlib figure.\"\"\"\n",
    "    # Use the model to predict the values from the validation dataset.\n",
    "    n_features = 24\n",
    "    feature_vals = np.array([np.absolute(test_y[:, i] - predictions[:,i]) for i in range(n_features)])\n",
    "    feature_means = np.array([np.mean(feature_vals[i]) for i in range(n_features)])\n",
    "    feature_stds = np.array([np.std(feature_vals[i]) for i in range(n_features)])\n",
    "    \n",
    "    # Create a figure to contain the plot.    \n",
    "    fig, ax = plt.subplots(figsize=(10,8))\n",
    "    #ax.bar(feature_means, range(n_features,0,-1), xerr=feature_stds, align='center', alpha=0.5, ecolor='black', capsize=10)\n",
    "    plt.errorbar(feature_means, range(n_features,0,-1), xerr=feature_stds, linestyle='None', marker='^')\n",
    "    ax.set_xlabel('Error (cm)')\n",
    "    ax.set_yticks(range(n_features, 0, -1))\n",
    "    ax.set_yticklabels(param_names[1:])\n",
    "    ax.set_title('Error per features')\n",
    "    ax.xaxis.grid(True)\n",
    "\n",
    "    # Save the figure and show\n",
    "    plt.tight_layout()\n",
    "    return fig\n",
    "\n",
    "\n",
    "def log_error_image(predictions, epoch):\n",
    "    figure = image_error(predictions)\n",
    "    err_image = plot_to_image(figure)\n",
    "\n",
    "    # Log the error image as an image summary.\n",
    "    with file_writer.as_default():\n",
    "        tf.summary.image(\"Error Image\", err_image, step=epoch)\n",
    "\n",
    "import random\n",
    "def log_outliers(predictions, epoch):\n",
    "    vals = np.array([np.absolute(test_y[i] - predictions[i]) for i in range(len(test_y))])\n",
    "    hm_abs = np.mean(vals, axis=1)\n",
    "\n",
    "    all_means = np.mean(hm_abs)\n",
    "    all_stds = np.std(hm_abs)\n",
    "\n",
    "    outliers = np.where(hm_abs > all_means + 2 * all_stds)\n",
    "    inliers = np.where(hm_abs < all_means - 0.5 * all_stds )\n",
    "    \n",
    "    test_X_outliers = test_X[outliers]\n",
    "    test_X_inliers = test_X[inliers]\n",
    "    random.shuffle(test_X_outliers)\n",
    "    random.shuffle(test_X_inliers)\n",
    "    \n",
    "    # Log the outlier images\n",
    "    with file_writer.as_default():\n",
    "        imgs = test_X_outliers[:12].reshape((-1, 512, 512, 1))\n",
    "        tf.summary.image(\"outliers\", imgs, max_outputs=12, step=epoch)\n",
    "        \n",
    "        imgs = test_X_inliers[:12].reshape((-1, 512, 512, 1))\n",
    "        tf.summary.image(\"inliers\", imgs, max_outputs=12, step=epoch)\n",
    " \n",
    "        \n",
    "def log_epoch(epoch, logs):\n",
    "    #if epoch % 5 != 0:\n",
    "    #    return\n",
    "    predictions = model.predict(test_X)\n",
    "    log_error_image(predictions, epoch)\n",
    "    log_outliers(predictions, epoch)\n",
    "        \n",
    "# Define the per-epoch callback.\n",
    "error_callback = keras.callbacks.LambdaCallback(on_epoch_end=log_epoch)"
   ]
  },
  {
   "cell_type": "code",
   "execution_count": 85,
   "metadata": {},
   "outputs": [],
   "source": [
    "class DotPrintingCallback(tf.keras.callbacks.Callback):\n",
    "    def on_epoch_end(self, epoch, logs=None):\n",
    "        print('.', end='')     \n",
    "        \n",
    "from tensorflow.keras.callbacks import ModelCheckpoint\n",
    "\n",
    "# Save the checkpoint in the /output folder\n",
    "filepath = \"logs\\\\checkpoint.hdf5\"\n",
    "\n",
    "# Keep only a single checkpoint, the best over test accuracy.\n",
    "checkpoint = ModelCheckpoint(filepath,\n",
    "                            monitor='val_mae',\n",
    "                            verbose=0,\n",
    "                            save_best_only=True,\n",
    "                            mode='max')"
   ]
  },
  {
   "cell_type": "markdown",
   "metadata": {},
   "source": [
    "#### Builds the model"
   ]
  },
  {
   "cell_type": "markdown",
   "metadata": {},
   "source": [
    "Defines resnet layer definition."
   ]
  },
  {
   "cell_type": "code",
   "execution_count": 86,
   "metadata": {},
   "outputs": [],
   "source": [
    "from tensorflow.keras import layers, models\n",
    "from tensorflow.keras.initializers import glorot_uniform\n",
    "from tensorflow.keras.layers import Input, Add, Dense, Activation, ZeroPadding2D, BatchNormalization, Flatten, Conv2D, AveragePooling2D, MaxPooling2D, GlobalMaxPooling2D, SeparableConv2D\n",
    "from tensorflow.keras.models import Model, load_model\n",
    "from tensorflow.keras import regularizers\n",
    "\n",
    "\n",
    "def identity_block(X, f, filters, stage, block):\n",
    "    \"\"\"\n",
    "    Implementation of the identity block as defined in Figure 3\n",
    "    \n",
    "    Arguments:\n",
    "    X -- input tensor of shape (m, n_H_prev, n_W_prev, n_C_prev)\n",
    "    f -- integer, specifying the shape of the middle CONV's window for the main path\n",
    "    filters -- python list of integers, defining the number of filters in the CONV layers of the main path\n",
    "    stage -- integer, used to name the layers, depending on their position in the network\n",
    "    block -- string/character, used to name the layers, depending on their position in the network\n",
    "    \n",
    "    Returns:\n",
    "    X -- output of the identity block, tensor of shape (n_H, n_W, n_C)\n",
    "    \"\"\"\n",
    "    \n",
    "    # defining name basis\n",
    "    conv_name_base = 'res' + str(stage) + block + '_branch'\n",
    "    bn_name_base = 'bn' + str(stage) + block + '_branch'\n",
    "    \n",
    "    # Save the input value. You'll need this later to add back to the main path. \n",
    "    X_shortcut = X\n",
    "    \n",
    "    # First component of main path\n",
    "    #X = layers.SeparableConv2D(filters = filters, kernel_size = (1, 1), strides = (1,1), padding = 'same', name = conv_name_base + '2a',\n",
    "    #                           activation='relu',\n",
    "    #                           kernel_initializer=\"he_normal\"\n",
    "    #                          )(X)\n",
    "    \n",
    "    # Second component of main path (≈2 lines)\n",
    "    X = layers.Activation('relu')(X)\n",
    "    X = layers.SeparableConv2D(filters = filters, kernel_size = (f, f), strides = (1,1), padding = 'same', name = conv_name_base + '2c',\n",
    "                               #activation='relu',\n",
    "                               kernel_initializer=\"he_normal\",\n",
    "                               kernel_regularizer=regularizers.l2(1.e-4)\n",
    "                              )(X)\n",
    "\n",
    "    # Final step: Add shortcut value to main path, and pass it through a RELU activation (≈2 lines)\n",
    "    X = layers.Add()([X, X_shortcut])\n",
    "        \n",
    "    return X"
   ]
  },
  {
   "cell_type": "code",
   "execution_count": 87,
   "metadata": {},
   "outputs": [],
   "source": [
    "def convolutional_block(X, f, filters, stage, block, s = 2):\n",
    "    \"\"\"\n",
    "    Implementation of the convolutional block as defined in Figure 4\n",
    "    \n",
    "    Arguments:\n",
    "    X -- input tensor of shape (m, n_H_prev, n_W_prev, n_C_prev)\n",
    "    f -- integer, specifying the shape of the middle CONV's window for the main path\n",
    "    filters -- python list of integers, defining the number of filters in the CONV layers of the main path\n",
    "    stage -- integer, used to name the layers, depending on their position in the network\n",
    "    block -- string/character, used to name the layers, depending on their position in the network\n",
    "    s -- Integer, specifying the stride to be used\n",
    "    \n",
    "    Returns:\n",
    "    X -- output of the convolutional block, tensor of shape (n_H, n_W, n_C)\n",
    "    \"\"\"\n",
    "    \n",
    "    # defining name basis\n",
    "    conv_name_base = 'res' + str(stage) + block + '_branch'\n",
    "    bn_name_base = 'bn' + str(stage) + block + '_branch'\n",
    "    \n",
    "    # Save the input value\n",
    "    X_shortcut = X\n",
    "\n",
    "\n",
    "    ##### MAIN PATH #####\n",
    "    # First component of main path \n",
    "    is_first_block_of_first_layer = stage == 0\n",
    "    if not is_first_block_of_first_layer:\n",
    "        X = layers.Activation('relu')(X)\n",
    "    X = layers.SeparableConv2D(filters, (f, f), strides = (s,s), padding='same', name = conv_name_base + '2a',\n",
    "                               #kernel_initializer = glorot_uniform(seed=0),\n",
    "                               kernel_initializer=\"he_normal\",\n",
    "                               kernel_regularizer=regularizers.l2(1.e-4)\n",
    "                       )(X)\n",
    "    \n",
    "\n",
    "    ##### SHORTCUT PATH #### (≈2 lines)\n",
    "    X_shortcut = layers.SeparableConv2D(filters = filters, kernel_size = (1, 1), strides = (s,s), padding = 'same', name = conv_name_base + '1',\n",
    "                                        #kernel_initializer = glorot_uniform(seed=0),\n",
    "                                        kernel_initializer=\"he_normal\",\n",
    "                                        kernel_regularizer=regularizers.l2(1.e-4)\n",
    "                                )(X_shortcut)\n",
    "\n",
    "    # Final step: Add shortcut value to main path, and pass it through a RELU activation (≈2 lines)\n",
    "    X = layers.Add()([X, X_shortcut])    \n",
    "    \n",
    "    return X"
   ]
  },
  {
   "cell_type": "code",
   "execution_count": 88,
   "metadata": {},
   "outputs": [],
   "source": [
    "def build_layer(X, f, filters, stage, s, count):\n",
    "    X = convolutional_block(X, f=f, filters=filters, stage=stage, block='a', s = s)\n",
    "    for i in range(count):\n",
    "        X = identity_block(X, f=3, filters=filters, stage=stage, block='b{}'.format(i))  \n",
    "    \n",
    "    return X"
   ]
  },
  {
   "cell_type": "markdown",
   "metadata": {},
   "source": [
    "Defines resnet model definition."
   ]
  },
  {
   "cell_type": "code",
   "execution_count": 89,
   "metadata": {},
   "outputs": [],
   "source": [
    "def build_model(input_shape=(512,512,1), n_features=24):\n",
    "    \"\"\"\n",
    "    Implementation of the popular ResNet18 the following architecture:\n",
    "    CONV2D -> BATCHNORM -> RELU -> MAXPOOL -> CONVBLOCK -> IDBLOCK*2 -> CONVBLOCK -> IDBLOCK*3\n",
    "    -> CONVBLOCK -> IDBLOCK*5 -> CONVBLOCK -> IDBLOCK*2 -> AVGPOOL -> TOPLAYER\n",
    "\n",
    "    Arguments:\n",
    "    input_shape -- shape of the images of the dataset\n",
    "    n_features -- integer, number of features\n",
    "\n",
    "    Returns:\n",
    "    model -- a Model() instance in Keras\n",
    "    \"\"\"\n",
    "    from tensorflow.keras import layers, models\n",
    "    from tensorflow.keras import regularizers\n",
    "    \n",
    "    # Define the input as a tensor with shape input_shape\n",
    "    X_input = layers.Input(input_shape)\n",
    "    X = X_input\n",
    "    \n",
    "    stages = [\n",
    "        [4,7,0], # 2^8=256\n",
    "        [8,5,2], # 2^6\n",
    "        [16,5,2], # 2^4\n",
    "        [32,3,2], # 2^2\n",
    "        [64,3,2] # 2^0\n",
    "    ]\n",
    "\n",
    "    # Zero-Padding\n",
    "    #X = layers.ZeroPadding2D((3, 3))(X)\n",
    "\n",
    "    n_layers = len(stages)\n",
    "    for i in range(n_layers):\n",
    "        # Stage i\n",
    "        stage = stages[i]\n",
    "        filters = stage[0]\n",
    "        f = stage[1]\n",
    "        count = stage[2]\n",
    "        \n",
    "        first_layer = i == 0\n",
    "        last_layer = i == n_layers - 1\n",
    "        \n",
    "        s = 2\n",
    "        if first_layer:\n",
    "            s = 1\n",
    "        \n",
    "        X = build_layer(X, f=f, filters=filters, stage=i, s=s, count=count)\n",
    "        \n",
    "        if not last_layer:\n",
    "            X = layers.MaxPooling2D((2, 2))(X)\n",
    "        else:\n",
    "            X = layers.AveragePooling2D((2, 2))(X)\n",
    "    \n",
    "    X = layers.Flatten()(X)\n",
    "    X = layers.Dense(n_features)(X)\n",
    "    \n",
    "    \n",
    "    # Create model\n",
    "    model = Model(inputs = X_input, outputs = X, name='bs_v3')\n",
    "    \n",
    "    return model"
   ]
  },
  {
   "cell_type": "markdown",
   "metadata": {},
   "source": [
    "Build the model."
   ]
  },
  {
   "cell_type": "code",
   "execution_count": 90,
   "metadata": {
    "jupyter": {
     "source_hidden": true
    },
    "scrolled": true
   },
   "outputs": [
    {
     "name": "stdout",
     "output_type": "stream",
     "text": [
      "Model: \"bs_v3\"\n",
      "__________________________________________________________________________________________________\n",
      "Layer (type)                    Output Shape         Param #     Connected to                     \n",
      "==================================================================================================\n",
      "input_1 (InputLayer)            [(None, 512, 512, 1) 0                                            \n",
      "__________________________________________________________________________________________________\n",
      "res0a_branch2a (SeparableConv2D (None, 512, 512, 4)  57          input_1[0][0]                    \n",
      "__________________________________________________________________________________________________\n",
      "res0a_branch1 (SeparableConv2D) (None, 512, 512, 4)  9           input_1[0][0]                    \n",
      "__________________________________________________________________________________________________\n",
      "add (Add)                       (None, 512, 512, 4)  0           res0a_branch2a[0][0]             \n",
      "                                                                 res0a_branch1[0][0]              \n",
      "__________________________________________________________________________________________________\n",
      "max_pooling2d (MaxPooling2D)    (None, 256, 256, 4)  0           add[0][0]                        \n",
      "__________________________________________________________________________________________________\n",
      "activation (Activation)         (None, 256, 256, 4)  0           max_pooling2d[0][0]              \n",
      "__________________________________________________________________________________________________\n",
      "res1a_branch2a (SeparableConv2D (None, 128, 128, 8)  140         activation[0][0]                 \n",
      "__________________________________________________________________________________________________\n",
      "res1a_branch1 (SeparableConv2D) (None, 128, 128, 8)  44          max_pooling2d[0][0]              \n",
      "__________________________________________________________________________________________________\n",
      "add_1 (Add)                     (None, 128, 128, 8)  0           res1a_branch2a[0][0]             \n",
      "                                                                 res1a_branch1[0][0]              \n",
      "__________________________________________________________________________________________________\n",
      "activation_1 (Activation)       (None, 128, 128, 8)  0           add_1[0][0]                      \n",
      "__________________________________________________________________________________________________\n",
      "res1b0_branch2c (SeparableConv2 (None, 128, 128, 8)  144         activation_1[0][0]               \n",
      "__________________________________________________________________________________________________\n",
      "add_2 (Add)                     (None, 128, 128, 8)  0           res1b0_branch2c[0][0]            \n",
      "                                                                 add_1[0][0]                      \n",
      "__________________________________________________________________________________________________\n",
      "activation_2 (Activation)       (None, 128, 128, 8)  0           add_2[0][0]                      \n",
      "__________________________________________________________________________________________________\n",
      "res1b1_branch2c (SeparableConv2 (None, 128, 128, 8)  144         activation_2[0][0]               \n",
      "__________________________________________________________________________________________________\n",
      "add_3 (Add)                     (None, 128, 128, 8)  0           res1b1_branch2c[0][0]            \n",
      "                                                                 add_2[0][0]                      \n",
      "__________________________________________________________________________________________________\n",
      "max_pooling2d_1 (MaxPooling2D)  (None, 64, 64, 8)    0           add_3[0][0]                      \n",
      "__________________________________________________________________________________________________\n",
      "activation_3 (Activation)       (None, 64, 64, 8)    0           max_pooling2d_1[0][0]            \n",
      "__________________________________________________________________________________________________\n",
      "res2a_branch2a (SeparableConv2D (None, 32, 32, 16)   344         activation_3[0][0]               \n",
      "__________________________________________________________________________________________________\n",
      "res2a_branch1 (SeparableConv2D) (None, 32, 32, 16)   152         max_pooling2d_1[0][0]            \n",
      "__________________________________________________________________________________________________\n",
      "add_4 (Add)                     (None, 32, 32, 16)   0           res2a_branch2a[0][0]             \n",
      "                                                                 res2a_branch1[0][0]              \n",
      "__________________________________________________________________________________________________\n",
      "activation_4 (Activation)       (None, 32, 32, 16)   0           add_4[0][0]                      \n",
      "__________________________________________________________________________________________________\n",
      "res2b0_branch2c (SeparableConv2 (None, 32, 32, 16)   416         activation_4[0][0]               \n",
      "__________________________________________________________________________________________________\n",
      "add_5 (Add)                     (None, 32, 32, 16)   0           res2b0_branch2c[0][0]            \n",
      "                                                                 add_4[0][0]                      \n",
      "__________________________________________________________________________________________________\n",
      "activation_5 (Activation)       (None, 32, 32, 16)   0           add_5[0][0]                      \n",
      "__________________________________________________________________________________________________\n",
      "res2b1_branch2c (SeparableConv2 (None, 32, 32, 16)   416         activation_5[0][0]               \n",
      "__________________________________________________________________________________________________\n",
      "add_6 (Add)                     (None, 32, 32, 16)   0           res2b1_branch2c[0][0]            \n",
      "                                                                 add_5[0][0]                      \n",
      "__________________________________________________________________________________________________\n",
      "max_pooling2d_2 (MaxPooling2D)  (None, 16, 16, 16)   0           add_6[0][0]                      \n",
      "__________________________________________________________________________________________________\n",
      "activation_6 (Activation)       (None, 16, 16, 16)   0           max_pooling2d_2[0][0]            \n",
      "__________________________________________________________________________________________________\n",
      "res3a_branch2a (SeparableConv2D (None, 8, 8, 32)     688         activation_6[0][0]               \n",
      "__________________________________________________________________________________________________\n",
      "res3a_branch1 (SeparableConv2D) (None, 8, 8, 32)     560         max_pooling2d_2[0][0]            \n",
      "__________________________________________________________________________________________________\n",
      "add_7 (Add)                     (None, 8, 8, 32)     0           res3a_branch2a[0][0]             \n",
      "                                                                 res3a_branch1[0][0]              \n",
      "__________________________________________________________________________________________________\n",
      "activation_7 (Activation)       (None, 8, 8, 32)     0           add_7[0][0]                      \n",
      "__________________________________________________________________________________________________\n",
      "res3b0_branch2c (SeparableConv2 (None, 8, 8, 32)     1344        activation_7[0][0]               \n",
      "__________________________________________________________________________________________________\n",
      "add_8 (Add)                     (None, 8, 8, 32)     0           res3b0_branch2c[0][0]            \n",
      "                                                                 add_7[0][0]                      \n",
      "__________________________________________________________________________________________________\n",
      "activation_8 (Activation)       (None, 8, 8, 32)     0           add_8[0][0]                      \n",
      "__________________________________________________________________________________________________\n",
      "res3b1_branch2c (SeparableConv2 (None, 8, 8, 32)     1344        activation_8[0][0]               \n",
      "__________________________________________________________________________________________________\n",
      "add_9 (Add)                     (None, 8, 8, 32)     0           res3b1_branch2c[0][0]            \n",
      "                                                                 add_8[0][0]                      \n",
      "__________________________________________________________________________________________________\n",
      "max_pooling2d_3 (MaxPooling2D)  (None, 4, 4, 32)     0           add_9[0][0]                      \n",
      "__________________________________________________________________________________________________\n",
      "activation_9 (Activation)       (None, 4, 4, 32)     0           max_pooling2d_3[0][0]            \n",
      "__________________________________________________________________________________________________\n",
      "res4a_branch2a (SeparableConv2D (None, 2, 2, 64)     2400        activation_9[0][0]               \n",
      "__________________________________________________________________________________________________\n",
      "res4a_branch1 (SeparableConv2D) (None, 2, 2, 64)     2144        max_pooling2d_3[0][0]            \n",
      "__________________________________________________________________________________________________\n",
      "add_10 (Add)                    (None, 2, 2, 64)     0           res4a_branch2a[0][0]             \n",
      "                                                                 res4a_branch1[0][0]              \n",
      "__________________________________________________________________________________________________\n",
      "activation_10 (Activation)      (None, 2, 2, 64)     0           add_10[0][0]                     \n",
      "__________________________________________________________________________________________________\n",
      "res4b0_branch2c (SeparableConv2 (None, 2, 2, 64)     4736        activation_10[0][0]              \n",
      "__________________________________________________________________________________________________\n",
      "add_11 (Add)                    (None, 2, 2, 64)     0           res4b0_branch2c[0][0]            \n",
      "                                                                 add_10[0][0]                     \n",
      "__________________________________________________________________________________________________\n",
      "activation_11 (Activation)      (None, 2, 2, 64)     0           add_11[0][0]                     \n",
      "__________________________________________________________________________________________________\n",
      "res4b1_branch2c (SeparableConv2 (None, 2, 2, 64)     4736        activation_11[0][0]              \n",
      "__________________________________________________________________________________________________\n",
      "add_12 (Add)                    (None, 2, 2, 64)     0           res4b1_branch2c[0][0]            \n",
      "                                                                 add_11[0][0]                     \n",
      "__________________________________________________________________________________________________\n",
      "average_pooling2d (AveragePooli (None, 1, 1, 64)     0           add_12[0][0]                     \n",
      "__________________________________________________________________________________________________\n",
      "flatten (Flatten)               (None, 64)           0           average_pooling2d[0][0]          \n",
      "__________________________________________________________________________________________________\n",
      "dense (Dense)                   (None, 24)           1560        flatten[0][0]                    \n",
      "==================================================================================================\n",
      "Total params: 21,378\n",
      "Trainable params: 21,378\n",
      "Non-trainable params: 0\n",
      "__________________________________________________________________________________________________\n"
     ]
    }
   ],
   "source": [
    "#strategy = tf.distribute.MirroredStrategy() #devices=[\"/gpu:0\", \"/gpu:1\"])\n",
    "strategy = tf.distribute.OneDeviceStrategy(device=\"/gpu:1\")\n",
    "with strategy.scope():\n",
    "    model = build_model()\n",
    "    model.compile(optimizer=keras.optimizers.Adam(), #'adam', # optimizer,  # (learning_rate=1e-3),\n",
    "                  loss='mse',\n",
    "                  metrics=['mae', 'mse'])\n",
    "    model.summary()"
   ]
  },
  {
   "cell_type": "markdown",
   "metadata": {},
   "source": [
    "### Trains the model"
   ]
  },
  {
   "cell_type": "markdown",
   "metadata": {},
   "source": [
    "It needs 9GB of GPU VRAM to run 128 batch size on ResNet18."
   ]
  },
  {
   "cell_type": "code",
   "execution_count": 91,
   "metadata": {},
   "outputs": [
    {
     "name": "stdout",
     "output_type": "stream",
     "text": [
      "Train on 6400 samples\n",
      "Epoch 1/2\n",
      "6400/6400 - 31s - loss: 926.7740 - mae: 18.9875 - mse: 926.7742\n",
      "Epoch 2/2\n",
      "6400/6400 - 29s - loss: 47.7524 - mae: 4.2867 - mse: 47.7524\n"
     ]
    },
    {
     "data": {
      "text/plain": [
       "<tensorflow.python.keras.callbacks.History at 0x225c1639548>"
      ]
     },
     "execution_count": 91,
     "metadata": {},
     "output_type": "execute_result"
    }
   ],
   "source": [
    "batch_size = 128\n",
    "\n",
    "model.fit(train_X, normalized_train_y, epochs=2,\n",
    "          batch_size=batch_size, shuffle=False,\n",
    "          verbose=2,\n",
    "          callbacks=[lr_callback],\n",
    "         )"
   ]
  },
  {
   "cell_type": "code",
   "execution_count": 92,
   "metadata": {
    "scrolled": true
   },
   "outputs": [
    {
     "name": "stdout",
     "output_type": "stream",
     "text": [
      ">>>>>................................................................................................................................................................................................................................................................................................................................................................................................................<<<<<\n"
     ]
    }
   ],
   "source": [
    "epochs = 400\n",
    "\n",
    "print('>>>>>', end='')\n",
    "history = model.fit(train_X, normalized_train_y, epochs=epochs,\n",
    "                    batch_size=batch_size, shuffle=False,\n",
    "                    verbose=0,\n",
    "                    callbacks=[\n",
    "                        tf.keras.callbacks.EarlyStopping(\n",
    "                            monitor='val_loss',\n",
    "                            patience=50,\n",
    "                            restore_best_weights=True),\n",
    "                        tensorboard_callback,\n",
    "                        lr_callback,\n",
    "                        error_callback,\n",
    "                        DotPrintingCallback(),\n",
    "                        checkpoint\n",
    "                    ],\n",
    "                    validation_data=(validation_X, normalized_validation_y))\n",
    "print('<<<<<')"
   ]
  },
  {
   "cell_type": "markdown",
   "metadata": {},
   "source": [
    "### Saves the model"
   ]
  },
  {
   "cell_type": "markdown",
   "metadata": {},
   "source": [
    "Check the learning history here."
   ]
  },
  {
   "cell_type": "code",
   "execution_count": 22,
   "metadata": {
    "collapsed": true,
    "jupyter": {
     "outputs_hidden": true
    }
   },
   "outputs": [
    {
     "name": "stdout",
     "output_type": "stream",
     "text": [
      "2000/2000 - 1s - loss: 8.0514 - mae: 2.0215 - mse: 7.6773\n"
     ]
    },
    {
     "data": {
      "text/plain": [
       "'Test accuracy:'"
      ]
     },
     "metadata": {},
     "output_type": "display_data"
    },
    {
     "data": {
      "text/plain": [
       "8.051432525634766"
      ]
     },
     "metadata": {},
     "output_type": "display_data"
    },
    {
     "data": {
      "image/png": "[encoded data removed]",
      "text/plain": [
       "<Figure size 432x288 with 1 Axes>"
      ]
     },
     "metadata": {
      "needs_background": "light"
     },
     "output_type": "display_data"
    }
   ],
   "source": [
    "plt.plot(history.history['mae'], label='mae')\n",
    "plt.plot(history.history['val_mae'], label = 'val_mae')\n",
    "plt.xlabel('Epoch')\n",
    "plt.ylabel('Accuracy')\n",
    "#plt.ylim([0.1, 1])\n",
    "plt.legend(loc='upper right')\n",
    "sc = history.history['val_mae'][-1]\n",
    "params = '{}_lr {} ds {} dr {} sc {:.5f}'.format(dt_str, lr, ds, dr, sc)\n",
    "title = 'Training curve - {}'.format(params)\n",
    "plt.title(title)\n",
    "plt.savefig('{}_history.png'.format(dt_str))\n",
    "\n",
    "test_loss, test_mae, test_mse = model.evaluate(test_X,  normalized_test_y, verbose=2)\n",
    "\n",
    "display('Test accuracy:', test_loss)\n",
    "\n",
    "# More upper features."
   ]
  },
  {
   "cell_type": "markdown",
   "metadata": {
    "jupyter": {
     "source_hidden": true
    }
   },
   "source": [
    "### Save the model"
   ]
  },
  {
   "cell_type": "markdown",
   "metadata": {},
   "source": [
    "Saves into keras savemodel file."
   ]
  },
  {
   "cell_type": "code",
   "execution_count": 93,
   "metadata": {},
   "outputs": [],
   "source": [
    "model_path = './bs/model_man_224_10k_v3.1.h5'"
   ]
  },
  {
   "cell_type": "code",
   "execution_count": 94,
   "metadata": {},
   "outputs": [],
   "source": [
    "model.save(model_path)"
   ]
  },
  {
   "cell_type": "markdown",
   "metadata": {},
   "source": [
    "Call following cell with tensorflow 1.14 to convert keras SaveModel into tensorflow pb model."
   ]
  },
  {
   "cell_type": "code",
   "execution_count": null,
   "metadata": {
    "jupyter": {
     "source_hidden": true
    }
   },
   "outputs": [],
   "source": [
    "def my_freeze_graph(output_node_names, destination, name=\"frozen_model.pb\"):\n",
    "    \"\"\"\n",
    "    Freeze the current graph alongside its weights (converted to constants) into a protobuf file.\n",
    "    :param output_node_names: The name of the output node names we are interested in\n",
    "    :param destination: Destination folder or remote service (eg. gs://)\n",
    "    :param name: Filename of the saved graph\n",
    "    :return:\n",
    "    \"\"\"\n",
    "    tf.keras.backend.set_learning_phase(0)  # set inference phase\n",
    "\n",
    "    sess = tf.keras.backend.get_session()\n",
    "    input_graph_def = sess.graph.as_graph_def()     # get graph def proto from keras session's graph\n",
    "\n",
    "    with sess.as_default():\n",
    "        # Convert variables into constants so they will be stored into the graph def\n",
    "        output_graph_def = tf.graph_util.convert_variables_to_constants(\n",
    "            sess,\n",
    "            input_graph_def,\n",
    "            output_node_names=output_node_names)\n",
    "\n",
    "        tf.train.write_graph(graph_or_graph_def=output_graph_def, logdir=destination, name=name, as_text=False)\n",
    "\n",
    "    #tf.keras.backend.clear_session()"
   ]
  },
  {
   "cell_type": "code",
   "execution_count": 4,
   "metadata": {},
   "outputs": [],
   "source": [
    "model = tf.keras.models.load_model(model_path)\n",
    "print ('Loaded the pre-trained model.')\n",
    "\n",
    "print(f'input_layer_name={model.input.name}')\n",
    "output_layer_name = model.output.name.split(':')[0]\n",
    "print(f'output_layer_name={output_layer_name}')\n",
    "\n",
    "my_freeze_graph([output_layer_name], destination='./bs', name=\"model_man_init_gpu.pb\")  # <-- Uncomment this"
   ]
  },
  {
   "cell_type": "markdown",
   "metadata": {},
   "source": [
    "## Evaluate the engine"
   ]
  },
  {
   "cell_type": "code",
   "execution_count": 147,
   "metadata": {
    "collapsed": true,
    "jupyter": {
     "outputs_hidden": true,
     "source_hidden": true
    }
   },
   "outputs": [
    {
     "name": "stderr",
     "output_type": "stream",
     "text": [
      "D:\\ProgramData\\Anaconda3_standalone\\envs\\tf2\\lib\\site-packages\\ipykernel_launcher.py:8: UserWarning: Matplotlib is currently using module://ipykernel.pylab.backend_inline, which is a non-GUI backend, so cannot show the figure.\n",
      "  \n"
     ]
    },
    {
     "data": {
      "image/png": "[encoded data removed]",
      "text/plain": [
       "<Figure size 720x576 with 1 Axes>"
      ]
     },
     "metadata": {
      "needs_background": "light"
     },
     "output_type": "display_data"
    }
   ],
   "source": [
    "predictions = model.predict(test_X)\n",
    "if normalize_on:\n",
    "    predictions = scaler.inverse_transform(predictions)\n",
    "\n",
    "# Prepare the plot\n",
    "figure = image_error(predictions)\n",
    "plt.savefig('{}_loss.png'.format(dt_str))\n",
    "figure.show()"
   ]
  },
  {
   "cell_type": "markdown",
   "metadata": {},
   "source": [
    "Some lazy debugging here :("
   ]
  },
  {
   "cell_type": "code",
   "execution_count": 24,
   "metadata": {
    "collapsed": true,
    "jupyter": {
     "outputs_hidden": true,
     "source_hidden": true
    }
   },
   "outputs": [
    {
     "data": {
      "text/plain": [
       "'Stat for feature: [Girth neck]'"
      ]
     },
     "metadata": {},
     "output_type": "display_data"
    },
    {
     "data": {
      "text/plain": [
       "1.4292848100560296"
      ]
     },
     "metadata": {},
     "output_type": "display_data"
    },
    {
     "data": {
      "text/plain": [
       "7.096981382812501"
      ]
     },
     "metadata": {},
     "output_type": "display_data"
    },
    {
     "data": {
      "text/plain": [
       "(array([608, 559, 379, 245, 105,  49,  32,  12,   4,   7], dtype=int64),\n",
       " array([0.000633305175782084, 0.710268112939454, 1.419902920703126,\n",
       "        2.129537728466798, 2.83917253623047, 3.5488073439941417,\n",
       "        4.258442151757814, 4.968076959521485, 5.677711767285158,\n",
       "        6.38734657504883, 7.096981382812501], dtype=object))"
      ]
     },
     "metadata": {},
     "output_type": "display_data"
    }
   ],
   "source": [
    "vals = np.array([np.absolute(test_y[i] - predictions[i]) for i in range(len(test_y))])\n",
    "\n",
    "def show_feature_err_hist(feature_idx, bins=10):\n",
    "    display('Stat for feature: [{}]'.format(param_names[1+feature_idx]))\n",
    "    f_vals = vals[:, feature_idx]\n",
    "    display(np.mean(f_vals))\n",
    "    display(np.max(f_vals))\n",
    "    display(np.histogram(f_vals, bins=bins))\n",
    "\n",
    "show_feature_err_hist(2, bins=10)"
   ]
  },
  {
   "cell_type": "code",
   "execution_count": 25,
   "metadata": {
    "collapsed": true,
    "jupyter": {
     "outputs_hidden": true,
     "source_hidden": true
    }
   },
   "outputs": [
    {
     "data": {
      "text/plain": [
       "'error histogram per human'"
      ]
     },
     "metadata": {},
     "output_type": "display_data"
    },
    {
     "data": {
      "text/plain": [
       "(array([171, 823, 629, 261,  86,  21,   3,   5,   0,   1], dtype=int64),\n",
       " array([0.7274428438161212, 1.3194953193679808, 1.9115477949198407,\n",
       "        2.5036002704717, 3.09565274602356, 3.68770522157542,\n",
       "        4.2797576971272795, 4.8718101726791385, 5.463862648230998,\n",
       "        6.055915123782858, 6.647967599334717], dtype=object))"
      ]
     },
     "metadata": {},
     "output_type": "display_data"
    },
    {
     "data": {
      "text/plain": [
       "'human max'"
      ]
     },
     "metadata": {},
     "output_type": "display_data"
    },
    {
     "data": {
      "text/plain": [
       "24.894958260742214"
      ]
     },
     "metadata": {},
     "output_type": "display_data"
    },
    {
     "data": {
      "text/plain": [
       "'human mean'"
      ]
     },
     "metadata": {},
     "output_type": "display_data"
    },
    {
     "data": {
      "text/plain": [
       "2.021506686768901"
      ]
     },
     "metadata": {},
     "output_type": "display_data"
    }
   ],
   "source": [
    "hm_abs = np.mean(vals, axis=1)\n",
    "display('error histogram per human', np.histogram(hm_abs, bins=10))\n",
    "\n",
    "hm_maxs = np.max(vals)\n",
    "hm_means = np.mean(vals)\n",
    "hm_stds = np.std(vals)\n",
    "\n",
    "display('human max', np.mean(np.array(hm_maxs)))\n",
    "display('human mean', np.mean(np.array(hm_means)))\n",
    "#display(np.array(errs).reshape((-1,2)).tolist())"
   ]
  },
  {
   "cell_type": "code",
   "execution_count": 26,
   "metadata": {
    "collapsed": true,
    "jupyter": {
     "outputs_hidden": true,
     "source_hidden": true
    }
   },
   "outputs": [
    {
     "data": {
      "text/plain": [
       "'ground-truth'"
      ]
     },
     "metadata": {},
     "output_type": "display_data"
    },
    {
     "data": {
      "text/plain": [
       "[[188.157227, 132.702637, 48.814655],\n",
       " [123.60479, 132.182785, 125.62171200000002],\n",
       " [47.750183, 65.05435899999999, 54.557968],\n",
       " [62.868427000000004, 54.975964000000005, 49.537521000000005],\n",
       " [52.66444, 16.024433, 39.36813],\n",
       " [20.449517999999998, 62.448333999999996, 26.318169],\n",
       " [106.580421, 106.47163400000001, 71.763588],\n",
       " [13.246468, 77.98526, 88.165375]]"
      ]
     },
     "metadata": {},
     "output_type": "display_data"
    },
    {
     "data": {
      "text/plain": [
       "'prediction'"
      ]
     },
     "metadata": {},
     "output_type": "display_data"
    },
    {
     "data": {
      "text/plain": [
       "[[183.470703125, 135.10159301757812, 47.51319122314453],\n",
       " [127.58882141113281, 130.04446411132812, 128.5645294189453],\n",
       " [51.18975830078125, 67.23387145996094, 53.06169509887695],\n",
       " [62.350765228271484, 52.42081832885742, 46.18589782714844],\n",
       " [51.17068099975586, 14.94336223602295, 40.925384521484375],\n",
       " [20.581714630126953, 63.691551208496094, 23.828872680664062],\n",
       " [108.31167602539062, 106.68010711669922, 76.66845703125],\n",
       " [14.157464981079102, 76.21754455566406, 85.72647094726562]]"
      ]
     },
     "metadata": {},
     "output_type": "display_data"
    },
    {
     "data": {
      "text/plain": [
       "array([4.686523875000006, 2.398956017578115, 1.3014637768554707,\n",
       "       3.9840314111328183, 2.1383208886718705, 2.942817418945296,\n",
       "       3.43957530078125, 2.1795124599609466, 1.4962729011230493,\n",
       "       0.5176617717285197, 2.555145671142583, 3.3516231728515677,\n",
       "       1.4937590002441397, 1.0810707639770492, 1.5572545214843743,\n",
       "       0.13219663012695548, 1.2432172084960982, 2.4892963193359385,\n",
       "       1.7312550253906238, 0.20847311669920998, 4.904869031250001,\n",
       "       0.9109969810791014, 1.7677154443359342, 2.4389040527343724],\n",
       "      dtype=object)"
      ]
     },
     "metadata": {},
     "output_type": "display_data"
    },
    {
     "data": {
      "text/plain": [
       "'mean'"
      ]
     },
     "metadata": {},
     "output_type": "display_data"
    },
    {
     "data": {
      "text/plain": [
       "2.122954698371887"
      ]
     },
     "metadata": {},
     "output_type": "display_data"
    },
    {
     "data": {
      "text/plain": [
       "'max'"
      ]
     },
     "metadata": {},
     "output_type": "display_data"
    },
    {
     "data": {
      "text/plain": [
       "4.904869031250001"
      ]
     },
     "metadata": {},
     "output_type": "display_data"
    },
    {
     "data": {
      "text/plain": [
       "'std'"
      ]
     },
     "metadata": {},
     "output_type": "display_data"
    },
    {
     "data": {
      "text/plain": [
       "1.2547740822047264"
      ]
     },
     "metadata": {},
     "output_type": "display_data"
    }
   ],
   "source": [
    "cols = 3\n",
    "test_idx = 0\n",
    "display('ground-truth', test_y[test_idx].reshape(-1, cols).tolist())\n",
    "display('prediction', predictions[test_idx].reshape(-1, cols).tolist())\n",
    "dist = np.absolute(test_y[test_idx] - predictions[test_idx])\n",
    "display(dist)\n",
    "display('mean', np.mean(dist))\n",
    "display('max', np.max(dist))\n",
    "display('std', np.std(dist))"
   ]
  },
  {
   "cell_type": "code",
   "execution_count": null,
   "metadata": {},
   "outputs": [],
   "source": [
    "# sess.close()"
   ]
  },
  {
   "cell_type": "markdown",
   "metadata": {},
   "source": [
    "## Real environment validation\n",
    "\n",
    "Test the engine with the depth images captured from real human."
   ]
  },
  {
   "cell_type": "code",
   "execution_count": 27,
   "metadata": {
    "jupyter": {
     "source_hidden": true
    }
   },
   "outputs": [
    {
     "name": "stdout",
     "output_type": "stream",
     "text": [
      "Number of test images:  20\n"
     ]
    }
   ],
   "source": [
    "validation_files = find('*.png', './dataset/validate/')\n",
    "\n",
    "print('Number of test images: ', len(validation_files))"
   ]
  },
  {
   "cell_type": "code",
   "execution_count": 48,
   "metadata": {
    "jupyter": {
     "source_hidden": true
    }
   },
   "outputs": [
    {
     "data": {
      "text/plain": [
       "'dimension of validation_input_ds'"
      ]
     },
     "metadata": {},
     "output_type": "display_data"
    },
    {
     "data": {
      "text/plain": [
       "(20, 512, 512, 1)"
      ]
     },
     "metadata": {},
     "output_type": "display_data"
    }
   ],
   "source": [
    "img_count = 0\n",
    "validation_input_ds = np.array([load_img(file, n_channels=1) for file in validation_files])\n",
    "display('dimension of validation_input_ds', validation_input_ds.shape)"
   ]
  },
  {
   "cell_type": "code",
   "execution_count": 58,
   "metadata": {
    "jupyter": {
     "source_hidden": true
    }
   },
   "outputs": [],
   "source": [
    "def load_validation_image(index):\n",
    "    display(np.histogram(validation_input_ds[index], bins=10))\n",
    "    test_val_X = validation_input_ds[index]\n",
    "    #test_val_X[test_val_X_1<0.4] = 0\n",
    "    #test_val_X_1[test_val_X_1>0.7] = 0\n",
    "    #display(np.histogram(test_val_X_1, bins=10))\n",
    "    plt.imshow(test_val_X[:,:,0].astype(dtype=np.float32), cmap=plt.cm.binary)\n",
    "    return test_val_X"
   ]
  },
  {
   "cell_type": "code",
   "execution_count": 85,
   "metadata": {
    "jupyter": {
     "source_hidden": true
    }
   },
   "outputs": [],
   "source": [
    "def show_result(test_val_X):\n",
    "    predictions = model.predict(test_val_X.reshape((-1,512,512,1)))\n",
    "    normalize_on = False\n",
    "    if normalize_on:\n",
    "        predictions = scaler.inverse_transform(predictions)\n",
    "\n",
    "    display(predictions)\n",
    "    \n",
    "    vals = predictions[0]\n",
    "\n",
    "    fig, ax = plt.subplots(figsize=(10,8))\n",
    "    #ax.bar(feature_means, range(n_features,0,-1), xerr=feature_stds, align='center', alpha=0.5, ecolor='black', capsize=10)\n",
    "    y_pos = np.arange(len(vals))\n",
    "    rects = plt.barh(y_pos, vals, align='center', linestyle='None')\n",
    "    ax.set_xlabel('Result (cm)')\n",
    "    ax.set_yticks(x_pos)\n",
    "    ax.set_yticklabels(param_names[1:])\n",
    "    ax.invert_yaxis()  # labels read top-to-bottom\n",
    "    ax.set_xlabel('Features')\n",
    "    ax.set_title('Result')\n",
    "    ax.xaxis.grid(True)\n",
    "    \n",
    "    \n",
    "    for rect in rects:\n",
    "        width = rect.get_width()\n",
    "        ax.annotate('{:.1f}'.format(width),\n",
    "                    xy=(width, rect.get_y() + rect.get_height() / 2),\n",
    "                    xytext=(0, 3),  # 3 points vertical offset\n",
    "                    textcoords=\"offset points\",\n",
    "                    ha='left', va='center')\n",
    "\n",
    "    # Save the figure and show\n",
    "    plt.tight_layout()\n",
    "    fig.show()\n",
    "    "
   ]
  },
  {
   "cell_type": "code",
   "execution_count": 98,
   "metadata": {
    "collapsed": true,
    "jupyter": {
     "outputs_hidden": true,
     "source_hidden": true
    }
   },
   "outputs": [
    {
     "data": {
      "text/plain": [
       "(array([246760,      0,      0,      0,      0,      0,      0,   7690,\n",
       "          7658,     36], dtype=int64),\n",
       " array([0.    , 0.0707, 0.1414, 0.2119, 0.2827, 0.3533, 0.4238, 0.4946,\n",
       "        0.5654, 0.6357, 0.7065], dtype=float16))"
      ]
     },
     "metadata": {},
     "output_type": "display_data"
    },
    {
     "data": {
      "text/plain": [
       "array([[172.53616 ,  81.79983 ,  41.562763,  99.71463 ,  93.158806,\n",
       "        103.75624 ,  43.323265,  57.084885,  48.91805 ,  54.158016,\n",
       "         50.009045,  39.946346,  48.559864,  13.827819,  32.95308 ,\n",
       "         17.661118,  58.360786,  24.554863,  98.846725,  99.017365,\n",
       "         62.28157 ,  12.081706,  71.42998 ,  71.0195  ]], dtype=float32)"
      ]
     },
     "metadata": {},
     "output_type": "display_data"
    },
    {
     "name": "stderr",
     "output_type": "stream",
     "text": [
      "D:\\ProgramData\\Anaconda3_standalone\\envs\\tf2\\lib\\site-packages\\ipykernel_launcher.py:34: UserWarning: Matplotlib is currently using module://ipykernel.pylab.backend_inline, which is a non-GUI backend, so cannot show the figure.\n"
     ]
    },
    {
     "data": {
      "image/png": "[encoded data removed]",
      "text/plain": [
       "<Figure size 432x288 with 1 Axes>"
      ]
     },
     "metadata": {
      "needs_background": "light"
     },
     "output_type": "display_data"
    },
    {
     "data": {
      "image/png": "[encoded data removed]",
      "text/plain": [
       "<Figure size 720x576 with 1 Axes>"
      ]
     },
     "metadata": {
      "needs_background": "light"
     },
     "output_type": "display_data"
    }
   ],
   "source": [
    "test_val_X = load_validation_image(8)\n",
    "\n",
    "show_result(test_val_X)"
   ]
  },
  {
   "cell_type": "code",
   "execution_count": 62,
   "metadata": {
    "collapsed": true,
    "jupyter": {
     "outputs_hidden": true
    }
   },
   "outputs": [
    {
     "data": {
      "text/plain": [
       "(array([249295,      1,      0,      0,      0,      0,      0,     30,\n",
       "          1619,  11199], dtype=int64),\n",
       " array([0.    , 0.0719, 0.1438, 0.2156, 0.2876, 0.3594, 0.4312, 0.503 ,\n",
       "        0.575 , 0.647 , 0.7188], dtype=float16))"
      ]
     },
     "metadata": {},
     "output_type": "display_data"
    },
    {
     "data": {
      "image/png": "[encoded data removed]",
      "text/plain": [
       "<Figure size 432x288 with 1 Axes>"
      ]
     },
     "metadata": {
      "needs_background": "light"
     },
     "output_type": "display_data"
    }
   ],
   "source": [
    "test_val_X_2 = load_validation_image(4)"
   ]
  },
  {
   "cell_type": "code",
   "execution_count": 55,
   "metadata": {
    "collapsed": true,
    "jupyter": {
     "outputs_hidden": true,
     "source_hidden": true
    }
   },
   "outputs": [
    {
     "data": {
      "text/plain": [
       "'distance'"
      ]
     },
     "metadata": {},
     "output_type": "display_data"
    },
    {
     "data": {
      "text/plain": [
       "2390.0"
      ]
     },
     "metadata": {},
     "output_type": "display_data"
    },
    {
     "data": {
      "text/plain": [
       "'top'"
      ]
     },
     "metadata": {},
     "output_type": "display_data"
    },
    {
     "data": {
      "text/plain": [
       "139"
      ]
     },
     "metadata": {},
     "output_type": "display_data"
    },
    {
     "data": {
      "text/plain": [
       "'bottom'"
      ]
     },
     "metadata": {},
     "output_type": "display_data"
    },
    {
     "data": {
      "text/plain": [
       "416"
      ]
     },
     "metadata": {},
     "output_type": "display_data"
    },
    {
     "data": {
      "text/plain": [
       "'height'"
      ]
     },
     "metadata": {},
     "output_type": "display_data"
    },
    {
     "data": {
      "text/plain": [
       "1810.7750211891052"
      ]
     },
     "metadata": {},
     "output_type": "display_data"
    }
   ],
   "source": [
    "def convert_to_millimeter(val):\n",
    "    return val * (max_depth - min_depth) + min_depth\n",
    "\n",
    "d1 = 0.7\n",
    "d2 = 0.4866\n",
    "test_val_X = test_val_X_2\n",
    "\n",
    "distance = convert_to_millimeter(d1)\n",
    "display('distance', distance)\n",
    "\n",
    "#display()\n",
    "val_sums = np.sum(test_val_X[:,:,0], axis=1)\n",
    "\n",
    "height_pixels = len(val_sums)\n",
    "min_index = 0\n",
    "max_index = height_pixels\n",
    "for i in range(height_pixels):\n",
    "    if val_sums[i] == 0 and min_index == i - 1:\n",
    "        min_index = i\n",
    "    inv_i = len(val_sums)-i-1\n",
    "    if val_sums[inv_i] == 0 and max_index == inv_i + 1:\n",
    "        max_index = inv_i\n",
    "display('top', min_index, 'bottom', max_index)\n",
    "\n",
    "height = max_index - min_index\n",
    "\n",
    "import math\n",
    "# convert the height to distance\n",
    "display('height', math.tan(70*3.1415927/180.0/2.0) * distance * 2 * height / height_pixels)"
   ]
  },
  {
   "cell_type": "code",
   "execution_count": null,
   "metadata": {},
   "outputs": [],
   "source": []
  }
 ],
 "metadata": {
  "kernelspec": {
   "display_name": "Python 3",
   "language": "python",
   "name": "python3"
  },
  "language_info": {
   "codemirror_mode": {
    "name": "ipython",
    "version": 3
   },
   "file_extension": ".py",
   "mimetype": "text/x-python",
   "name": "python",
   "nbconvert_exporter": "python",
   "pygments_lexer": "ipython3",
   "version": "3.7.6"
  }
 },
 "nbformat": 4,
 "nbformat_minor": 4
}
